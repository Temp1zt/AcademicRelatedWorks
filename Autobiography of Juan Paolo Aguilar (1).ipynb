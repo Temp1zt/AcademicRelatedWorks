{
 "cells": [
  {
   "cell_type": "code",
   "execution_count": 19,
   "id": "27382176",
   "metadata": {
    "scrolled": false
   },
   "outputs": [
    {
     "name": "stdout",
     "output_type": "stream",
     "text": [
      "Hello World! This is my Autobiography. \n"
     ]
    }
   ],
   "source": [
    "print (\"Hello World! This is my Autobiography. \")"
   ]
  },
  {
   "cell_type": "markdown",
   "id": "8b9e6a74",
   "metadata": {},
   "source": [
    "<h5> <br> Data Science-A35</br></h5>\n",
    "<h1><u><center> Juan Paolo Aguilar</u></h1>\n",
    "    \n",
    "<hr>\n",
    "\n",
    "    \n",
    "<p style='text-align:left;'>Hello World! I'm <b><i> Juan Paolo Aguilar. </b></i> quickly introduce myself, I'm a Male of legal age who resides around <b> Makati City </b> and whose <b> hobbies </b> are playing games that I find interesting, Watching series that get recommended to me or I'm interested in, and studying. Studying is a hobby that I recently participated in due to my new University being in the Top 4 Universities in the Philippines. I'm the <b> type of person </b> who usually lazes around everywhere and tends to procrastinate things, but with that negative trait about me, I also hold some positives. Despite my procrastination, I am success-driven; I also care for others while balancing taking care of myself. Lastly, I tend to be more of an introvert than an extrovert, but that doesn't mean I don't try to explore out of my comfort zone. I casually strive to improve my physical attributes and overall skills despite considering myself as someone who still has a lot to learn. </i></p> \n",
    " \n",
    "\n",
    "<p><left> During my early childhood, I resided in <i> Tondo, Manila,</i> attending <b> Gen. Maximino Elementary School </b> as a young student. After completing my elementary education, I embarked on a new chapter of my academic journey by enrolling at the <b> University of the East in Manila </b> for my <i> high school years. </i> It was during my second year of high school, specifically in Grade 8, when my family and I relocated to <i> Amaia Skies Avenida. </i> There, I lived alongside my sister and grandmother until the end of my 10th-grade year. Seeking a more spacious living arrangement, we made yet another move to <i> Sampaloc. </i>  Transitioning into my senior high school year, around Grade 11, we embarked on another relocation, this time to a more expansive residence in  <i> San Miguel Village, Makati. </i> Remarkably, we continue to call this place our home to this day, creating enduring memories in this vibrant community. </p>\n",
    "       \n"
   ]
  },
  {
   "cell_type": "markdown",
   "id": "e896c006",
   "metadata": {},
   "source": [
    "<h2><center> The Mapuan College Experience </h2>"
   ]
  },
  {
   "cell_type": "markdown",
   "id": "4fc3c1eb",
   "metadata": {},
   "source": [
    "<center><img src=\"https://www.finduniversity.ph/_resources/business/8212/mit-636.jpg\" width=\"300\"> "
   ]
  },
  {
   "cell_type": "markdown",
   "id": "038ea8fc",
   "metadata": {},
   "source": [
    "<p><left>I'm currently a <b> 1st year freshman </b> in my college years, I find myself immersed in the world of <b><i> Data Science </b></i> at Mapua University's Intramuros branch. This phase of my academic journey has brought about a sense of being lost and culture shock within me, as the system here differs significantly from what I've experienced before. Despite these initial challenges, I am determined to persevere. </p>\n",
    "\n",
    "<p><left> It's worth noting that my mathematical skills may be below average, but my passion and dreams fuel my unwavering commitment to pursuing a career in data science. I understand that this field demands a strong foundation in mathematics, but my determination to become a data scientist drives me to overcome this hurdle. I believe that with dedication and hard work, I can bridge the gap and ultimately achieve my aspirations in the world of data science. </p>"
   ]
  },
  {
   "cell_type": "markdown",
   "id": "481d7974",
   "metadata": {},
   "source": [
    "<h3><center> \"In Retrospect: A Life Unfolded\" </h3>"
   ]
  },
  {
   "cell_type": "markdown",
   "id": "4c0f2f55",
   "metadata": {},
   "source": [
    "<p> <left> As we embark on the concluding part of this autobiography, we can encapsulate the essence of my journey. I, Juan Paolo Aguilar, am a person with a tapestry of flaws and unique attributes that distinguish me from others. I stand before you as an individual who acknowledges imperfections and strives for self-improvement.</p>\n",
    "\n",
    "<p> <left> Presently, I grapple with the challenges of being a self-proclaimed 'lazy' individual, easily enticed by my hobbies, and possessing a less-than-stellar aptitude for mathematics. Yet, my aspirations reach beyond these limitations. I am committed to the relentless pursuit of becoming the best version of myself, with the hope that these current shortcomings will undergo transformation and refinement. </p>\n",
    "\n",
    "<p> <left> With this, I conclude my autobiography. Once again, I am Juan Paolo Aguilar, and I extend my heartfelt gratitude to you for sharing in this personal narrative. As we journey forward, may each passing day bring about positive changes, as life continues its unpredictable yet hopeful course. </p>"
   ]
  }
 ],
 "metadata": {
  "kernelspec": {
   "display_name": "Python 3 (ipykernel)",
   "language": "python",
   "name": "python3"
  },
  "language_info": {
   "codemirror_mode": {
    "name": "ipython",
    "version": 3
   },
   "file_extension": ".py",
   "mimetype": "text/x-python",
   "name": "python",
   "nbconvert_exporter": "python",
   "pygments_lexer": "ipython3",
   "version": "3.11.4"
  }
 },
 "nbformat": 4,
 "nbformat_minor": 5
}
